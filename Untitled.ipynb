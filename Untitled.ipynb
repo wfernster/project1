{
 "cells": [
  {
   "cell_type": "code",
   "execution_count": 58,
   "metadata": {},
   "outputs": [],
   "source": [
    "import pandas as pd\n",
    "\n",
    "pd.options.display.max_columns = None\n",
    "import matplotlib.pyplot as plt\n"
   ]
  },
  {
   "cell_type": "code",
   "execution_count": 3,
   "metadata": {},
   "outputs": [],
   "source": [
    "df = pd.read_csv('./UA Case - Facebook - 2017-02-01 to 2017-03-31 v2.xlsx - Sheet1.csv')\n"
   ]
  },
  {
   "cell_type": "code",
   "execution_count": 19,
   "metadata": {},
   "outputs": [],
   "source": [
    "for i in df.columns:\n",
    "    df = df.rename(columns = {i:i.replace(' ','_').lower()})\n",
    "\n",
    "\n",
    "\n",
    "# df['Reporting Starts'].unique()"
   ]
  },
  {
   "cell_type": "code",
   "execution_count": 36,
   "metadata": {},
   "outputs": [],
   "source": [
    "test = df.groupby(['reporting_starts','campaign_name','ad_set_name','ad_name'], as_index = False)\\\n",
    ".agg({'amount_spent_(usd)':sum,'clicks_(all)':sum})"
   ]
  },
  {
   "cell_type": "code",
   "execution_count": 75,
   "metadata": {},
   "outputs": [
    {
     "data": {
      "text/html": [
       "<div>\n",
       "<style scoped>\n",
       "    .dataframe tbody tr th:only-of-type {\n",
       "        vertical-align: middle;\n",
       "    }\n",
       "\n",
       "    .dataframe tbody tr th {\n",
       "        vertical-align: top;\n",
       "    }\n",
       "\n",
       "    .dataframe thead th {\n",
       "        text-align: right;\n",
       "    }\n",
       "</style>\n",
       "<table border=\"1\" class=\"dataframe\">\n",
       "  <thead>\n",
       "    <tr style=\"text-align: right;\">\n",
       "      <th></th>\n",
       "      <th>campaign_name</th>\n",
       "      <th>amount_spent_(usd)</th>\n",
       "      <th>clicks_(all)</th>\n",
       "      <th>amount_spent_(usd)_pct</th>\n",
       "      <th>amount_spent_(usd)_placement</th>\n",
       "      <th>clicks_(all)_pct</th>\n",
       "    </tr>\n",
       "  </thead>\n",
       "  <tbody>\n",
       "    <tr>\n",
       "      <th>0</th>\n",
       "      <td>FBK_PR_Acne_LAL_New</td>\n",
       "      <td>24017.85</td>\n",
       "      <td>31333</td>\n",
       "      <td>0.117097</td>\n",
       "      <td>0.000000</td>\n",
       "      <td>0.153813</td>\n",
       "    </tr>\n",
       "    <tr>\n",
       "      <th>1</th>\n",
       "      <td>FBK_RT_Acne_1V</td>\n",
       "      <td>44619.44</td>\n",
       "      <td>36552</td>\n",
       "      <td>0.217538</td>\n",
       "      <td>0.117097</td>\n",
       "      <td>0.179432</td>\n",
       "    </tr>\n",
       "    <tr>\n",
       "      <th>2</th>\n",
       "      <td>FB_HighLTV_LAL_New</td>\n",
       "      <td>2355.47</td>\n",
       "      <td>1391</td>\n",
       "      <td>0.011484</td>\n",
       "      <td>0.334634</td>\n",
       "      <td>0.006828</td>\n",
       "    </tr>\n",
       "    <tr>\n",
       "      <th>3</th>\n",
       "      <td>FB_HighLTV_LAL_Old3</td>\n",
       "      <td>121734.00</td>\n",
       "      <td>114961</td>\n",
       "      <td>0.593502</td>\n",
       "      <td>0.346118</td>\n",
       "      <td>0.564339</td>\n",
       "    </tr>\n",
       "    <tr>\n",
       "      <th>4</th>\n",
       "      <td>FB_PR_Acne_INT_MULTI_New</td>\n",
       "      <td>773.78</td>\n",
       "      <td>593</td>\n",
       "      <td>0.003772</td>\n",
       "      <td>0.939621</td>\n",
       "      <td>0.002911</td>\n",
       "    </tr>\n",
       "    <tr>\n",
       "      <th>5</th>\n",
       "      <td>FB_PR_Acne_INT_MULTI_Old</td>\n",
       "      <td>11610.70</td>\n",
       "      <td>18879</td>\n",
       "      <td>0.056607</td>\n",
       "      <td>0.943393</td>\n",
       "      <td>0.092676</td>\n",
       "    </tr>\n",
       "  </tbody>\n",
       "</table>\n",
       "</div>"
      ],
      "text/plain": [
       "              campaign_name  amount_spent_(usd)  clicks_(all)  \\\n",
       "0       FBK_PR_Acne_LAL_New            24017.85         31333   \n",
       "1            FBK_RT_Acne_1V            44619.44         36552   \n",
       "2        FB_HighLTV_LAL_New             2355.47          1391   \n",
       "3       FB_HighLTV_LAL_Old3           121734.00        114961   \n",
       "4  FB_PR_Acne_INT_MULTI_New              773.78           593   \n",
       "5  FB_PR_Acne_INT_MULTI_Old            11610.70         18879   \n",
       "\n",
       "   amount_spent_(usd)_pct  amount_spent_(usd)_placement  clicks_(all)_pct  \n",
       "0                0.117097                      0.000000          0.153813  \n",
       "1                0.217538                      0.117097          0.179432  \n",
       "2                0.011484                      0.334634          0.006828  \n",
       "3                0.593502                      0.346118          0.564339  \n",
       "4                0.003772                      0.939621          0.002911  \n",
       "5                0.056607                      0.943393          0.092676  "
      ]
     },
     "execution_count": 75,
     "metadata": {},
     "output_type": "execute_result"
    }
   ],
   "source": [
    "levels = ['campaign_name','ad_set_name','ad_name']\n",
    "lev_dict = {}\n",
    "\n",
    "for i in levels:\n",
    "    lev_dict[i] = test.groupby([i],as_index = False).agg({'amount_spent_(usd)':'sum','clicks_(all)':'sum'})\n",
    "    for col in lev_dict[i]:\n",
    "        if col != i:\n",
    "            lev_dict[i][col + '_pct'] = lev_dict[i][col] / lev_dict[i][col].sum()\n",
    "        \n",
    "        if col == 'amount_spent_(usd)':\n",
    "            lev_dict[i][col + '_placement'] = lev_dict[i][col + '_pct'].cumsum() - lev_dict[i][col + '_pct']\n",
    "            \n",
    "    \n",
    "\n",
    "lev_dict['campaign_name']\n",
    "\n"
   ]
  },
  {
   "cell_type": "code",
   "execution_count": 82,
   "metadata": {},
   "outputs": [
    {
     "data": {
      "image/png": "[encoded data removed]",
      "text/plain": [
       "<Figure size 432x288 with 1 Axes>"
      ]
     },
     "metadata": {
      "needs_background": "light"
     },
     "output_type": "display_data"
    }
   ],
   "source": [
    "fig = plt.figure()\n",
    "ax = fig.add_subplot(1, 1, 1)\n",
    "for i in lev_dict['campaign_name']['campaign_name']:\n",
    "    d = lev_dict['campaign_name'][lev_dict['campaign_name']['campaign_name'] == i]\n",
    "    rect = plt.Rectangle((0.0, d['amount_spent_(usd)_placement'].item()), 0.333,\\\n",
    "                         d['amount_spent_(usd)_pct'].item(), alpha=0.3)\n",
    "    ax.add_patch(rect)\n"
   ]
  },
  {
   "cell_type": "code",
   "execution_count": null,
   "metadata": {},
   "outputs": [],
   "source": []
  }
 ],
 "metadata": {
  "kernelspec": {
   "display_name": "Python 3",
   "language": "python",
   "name": "python3"
  },
  "language_info": {
   "codemirror_mode": {
    "name": "ipython",
    "version": 3
   },
   "file_extension": ".py",
   "mimetype": "text/x-python",
   "name": "python",
   "nbconvert_exporter": "python",
   "pygments_lexer": "ipython3",
   "version": "3.7.0"
  }
 },
 "nbformat": 4,
 "nbformat_minor": 2
}
